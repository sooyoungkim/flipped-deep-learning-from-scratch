{
 "cells": [
  {
   "cell_type": "markdown",
   "metadata": {},
   "source": [
    "### 구글 드라이브 마운트\n",
    "##### (1) 구글 colab을 사용하여 실행해봅니다. "
   ]
  },
  {
   "cell_type": "code",
   "execution_count": null,
   "metadata": {
    "collapsed": true
   },
   "outputs": [],
   "source": [
    "# GPU 사용여부 확인\n",
    "\n",
    "import tensorflow as tf\n",
    "tf.test.gpu_device_name()"
   ]
  },
  {
   "cell_type": "code",
   "execution_count": null,
   "metadata": {
    "collapsed": true
   },
   "outputs": [],
   "source": [
    "# 디바이스 정보 확인\n",
    "\n",
    "from tensorflow.python.client import device_lib\n",
    "device_lib.list_local_devices()"
   ]
  },
  {
   "cell_type": "code",
   "execution_count": null,
   "metadata": {
    "collapsed": true
   },
   "outputs": [],
   "source": [
    "# 현재위치 확인 \n",
    "pwd\n",
    "# '/content'\n",
    "\n",
    "# 현재위치내의 디렉토리 확인 \n",
    "ls -l\n",
    "# total 8\n",
    "# drwxr-xr-x 1 root root 4096 Jun 18 00:18 datalab/\n",
    "# drwxr-xr-x 2 root root 4096 Jun 18 00:19 drive/\n"
   ]
  },
  {
   "cell_type": "code",
   "execution_count": null,
   "metadata": {
    "collapsed": true
   },
   "outputs": [],
   "source": [
    "# 구글 드리이브 마운트를 위한 설치 및 인증 작업 \n",
    "\n",
    "!apt-get install -y -qq software-properties-common python-software-properties module-init-tools\n",
    "!add-apt-repository -y ppa:alessandro-strada/ppa 2>&1 > /dev/null\n",
    "!apt-get update -qq 2>&1 > /dev/null\n",
    "!apt-get -y install -qq google-drive-ocamlfuse fuse\n",
    "from google.colab import auth\n",
    "auth.authenticate_user()\n",
    "from oauth2client.client import GoogleCredentials\n",
    "creds = GoogleCredentials.get_application_default()\n",
    "import getpass\n",
    "!google-drive-ocamlfuse -headless -id={creds.client_id} -secret={creds.client_secret} < /dev/null 2>&1 | grep URL\n",
    "vcode = getpass.getpass()\n",
    "!echo {vcode} | google-drive-ocamlfuse -headless -id={creds.client_id} -secret={creds.client_secret}"
   ]
  },
  {
   "cell_type": "code",
   "execution_count": null,
   "metadata": {
    "collapsed": true
   },
   "outputs": [],
   "source": [
    "# 디렉토리 생성 \n",
    "\n",
    "!mkdir -p drive"
   ]
  },
  {
   "cell_type": "code",
   "execution_count": null,
   "metadata": {
    "collapsed": true
   },
   "outputs": [],
   "source": [
    "# 생성한 디렉토리(drive)에 내 구글 드라이브 연동\n",
    "\n",
    "!google-drive-ocamlfuse drive"
   ]
  },
  {
   "cell_type": "code",
   "execution_count": null,
   "metadata": {
    "collapsed": true
   },
   "outputs": [],
   "source": [
    "# 구글 드라이브 연동 확인\n",
    "# 내 구글 드라이브의 modu/deep_learning/ 확인해보기 \n",
    "\n",
    "ls -l drive/modu/deep_learning/"
   ]
  },
  {
   "cell_type": "code",
   "execution_count": null,
   "metadata": {
    "collapsed": true
   },
   "outputs": [],
   "source": [
    "import tensorflow as tf\n",
    "import numpy as np\n",
    "import matplotlib.pyplot as plt\n",
    "\n",
    "\n",
    "import sys\n",
    "# 절대경로\n",
    "sys.path.append('/content/drive/modu/deep_learning')\n",
    "\n",
    "from modu_labs.modu_layers import *\n",
    "from modu_labs.modu_lenet import *\n",
    "from modu_labs.modu_trainer import *\n",
    "\n",
    "\n",
    "##############################################################################\n",
    "# Download the fashion_mnist data\n",
    "##############################################################################\n",
    "(x_train, t_train), (x_test, t_test) = tf.keras.datasets.fashion_mnist.load_data()\n",
    "\n",
    "\n",
    "###################################################################\n",
    "# Fashion Mnist 데이터가 기존 Mnist와 데이터 포맷이 달라서 코드가 호환이 안된다.\n",
    "# 아래 코드를 사용해서 변환하면된다\n",
    "###################################################################\n",
    "x_train=np.expand_dims(x_train,axis=1)\n",
    "x_test=np.expand_dims(x_test,axis=1)\n",
    "\n",
    "\n",
    "# 시간이 오래 걸릴 경우 데이터를 줄인다.\n",
    "# x_train, t_train = x_train[:10000], t_train[:10000]\n",
    "# x_test, t_test = x_test[:1000], t_test[:1000]\n",
    "\n",
    "network = LeNet()\n",
    "trainer = Trainer(network, x_train, t_train, x_test, t_test\n",
    "                  , epochs=15\n",
    "                  , mini_batch_size=100\n",
    "                  , optimizer='Adam'\n",
    "                  , optimizer_param={'lr':0.001}\n",
    "                  , evaluate_sample_num_per_epoch=1000)\n",
    "\n",
    "trainer.train()\n",
    "\n",
    "train_acc_list, test_acc_list = trainer.train_acc_list, trainer.test_acc_list\n",
    "\n",
    "# 그래프 그리기==========\n",
    "markers = {'train': 'o', 'test': 's'}\n",
    "x = np.arange(len(train_acc_list))\n",
    "plt.plot(x, train_acc_list, marker='o', label='train', markevery=5)\n",
    "plt.plot(x, test_acc_list, marker='s', label='test', markevery=5)\n",
    "plt.xlabel(\"epochs\")\n",
    "plt.ylabel(\"accuracy\")\n",
    "plt.ylim(0, 100.0)\n",
    "plt.legend(loc='lower right')\n",
    "plt.show()\n",
    "\n",
    "# === epoch:1, train acc:9.2, test acc:9.3 ===\n",
    "# === epoch:2, train acc:87.0, test acc:84.7 ===\n",
    "# === epoch:3, train acc:89.1, test acc:86.8 ===\n",
    "# === epoch:4, train acc:89.60000000000001, test acc:87.4 ===\n",
    "# === epoch:5, train acc:89.7, test acc:87.2 ===\n",
    "# === epoch:6, train acc:91.10000000000001, test acc:88.2 ===\n",
    "# === epoch:7, train acc:91.2, test acc:89.0 ===\n",
    "# === epoch:8, train acc:89.9, test acc:87.7 ===\n",
    "# === epoch:9, train acc:92.10000000000001, test acc:88.9 ===\n",
    "# === epoch:10, train acc:91.0, test acc:88.6 ===\n",
    "# === epoch:11, train acc:90.9, test acc:87.9 ===\n",
    "# === epoch:12, train acc:91.8, test acc:88.0 ===\n",
    "# === epoch:13, train acc:91.7, test acc:88.5 ===\n",
    "# === epoch:14, train acc:93.30000000000001, test acc:89.0 ===\n",
    "# === epoch:15, train acc:92.5, test acc:89.4 ===\n",
    "# =============== Final Test Accuracy ===============\n",
    "# test acc:88.6"
   ]
  }
 ],
 "metadata": {
  "kernelspec": {
   "display_name": "Python 3",
   "language": "python",
   "name": "python3"
  },
  "language_info": {
   "codemirror_mode": {
    "name": "ipython",
    "version": 3
   },
   "file_extension": ".py",
   "mimetype": "text/x-python",
   "name": "python",
   "nbconvert_exporter": "python",
   "pygments_lexer": "ipython3",
   "version": "3.6.3"
  }
 },
 "nbformat": 4,
 "nbformat_minor": 2
}
